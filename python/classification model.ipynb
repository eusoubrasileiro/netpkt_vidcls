{
 "cells": [
  {
   "cell_type": "code",
   "execution_count": 2,
   "metadata": {},
   "outputs": [],
   "source": [
    "from pathlib import Path \n",
    "import pandas as pd\n",
    "import tqdm\n",
    "import numpy as np\n",
    "import pandas as pd\n",
    "from matplotlib import pyplot as plt \n",
    "import seaborn as sns \n",
    "from feature_creation import (\n",
    "    config, \n",
    "    csv_preprocess, \n",
    "    make_windowed_features,\n",
    "    read_hdf,\n",
    "    update_hdf\n",
    ")"
   ]
  },
  {
   "cell_type": "code",
   "execution_count": 3,
   "metadata": {},
   "outputs": [],
   "source": [
    "dfraw = read_hdf()"
   ]
  },
  {
   "cell_type": "code",
   "execution_count": 20,
   "metadata": {},
   "outputs": [
    {
     "name": "stderr",
     "output_type": "stream",
     "text": [
      "100%|██████████| 8/8 [00:04<00:00,  1.77it/s]\n"
     ]
    }
   ],
   "source": [
    "Xy = pd.DataFrame()\n",
    "for name, training_set in tqdm.tqdm(dfraw.groupby('name')):\n",
    "    y = training_set['y'].iloc[0]\n",
    "    xy = make_windowed_features(training_set)\n",
    "    xy['y'] = y\n",
    "    Xy = pd.concat([Xy, xy], ignore_index=True)"
   ]
  },
  {
   "cell_type": "code",
   "execution_count": 22,
   "metadata": {},
   "outputs": [
    {
     "name": "stdout",
     "output_type": "stream",
     "text": [
      "Average of 299 random splits - mean accuracy is  93.54 %\n"
     ]
    }
   ],
   "source": [
    "# 7th more importante features -> gives ~93% accuracy in average\n",
    "selected_features = ['ack_entropy', 'ttl_entropy', 'tcp_ack_var', 'pkt_entropy', \n",
    "                     'udp_nports', 'dw_ttl_avg', 'dw_ttl_unique']\n",
    "\n",
    "from sklearn.ensemble import RandomForestClassifier, ExtraTreesClassifier\n",
    "\n",
    "scores = []\n",
    "for i in range(300):\n",
    "    X = Xy.sample(frac=1) # shuffle samples\n",
    "    size = len(X)\n",
    "    ratio = 0.8 # 0.8 for training\n",
    "    X = X[X[selected_features].columns.to_list() + ['y']] # reducing features\n",
    "    X_train, y_train = X.drop(columns=['y']).iloc[:int(ratio*size)], X['y'].iloc[:int(ratio*size)]\n",
    "    X_score, y_score = X.drop(columns=['y']).iloc[int(ratio*size):], X['y'].iloc[int(ratio*size):]\n",
    "\n",
    "    # Train the model    \n",
    "    #rf = RandomForestClassifier(n_estimators=100, random_state=42)l\n",
    "    rf = ExtraTreesClassifier(n_estimators=100, random_state=42)\n",
    "    rf.fit(X_train, y_train)\n",
    "    # index = 1500\n",
    "    # sample = pd.DataFrame(X.iloc[index]).transpose()\n",
    "    # print(rf.predict_proba(sample), y.iloc[index])\n",
    "    score = 100*rf.score(X_score, y_score)\n",
    "    print(f\"Mean accuracy {i:3d} is {score: .2f} %\", end='\\r')\n",
    "    scores.append(score)\n",
    "    \n",
    "print(f\"Average of {i} random splits - mean accuracy is {np.mean(np.array(scores)): .2f} %\")"
   ]
  },
  {
   "cell_type": "code",
   "execution_count": 18,
   "metadata": {},
   "outputs": [],
   "source": [
    "# plt.figure(figsize=(10, 6))\n",
    "# sns.histplot(data=df, x='tcp_seq', hue='y', element='step', stat='density', \n",
    "#     common_norm=False, cumulative=False)\n",
    "# # plt.title('TTL Distribution for Video Streaming vs Web Surfing')\n",
    "# # plt.xlabel('Time to Live (TTL)')\n",
    "# # plt.ylabel('Density')\n",
    "# plt.show()"
   ]
  },
  {
   "cell_type": "code",
   "execution_count": 19,
   "metadata": {},
   "outputs": [],
   "source": [
    "# plt.figure(figsize=(20,20))\n",
    "# sns.pairplot(df, hue='y', vars=df.columns.values[:-6].tolist(), plot_kws={'alpha': 0.5})\n",
    "# plt.show()"
   ]
  },
  {
   "cell_type": "markdown",
   "metadata": {},
   "source": []
  },
  {
   "cell_type": "code",
   "execution_count": 23,
   "metadata": {},
   "outputs": [
    {
     "data": {
      "text/plain": [
       "<Axes: >"
      ]
     },
     "execution_count": 23,
     "metadata": {},
     "output_type": "execute_result"
    },
    {
     "data": {
      "image/png": "[encoded data removed]",
      "text/plain": [
       "<Figure size 640x480 with 1 Axes>"
      ]
     },
     "metadata": {},
     "output_type": "display_data"
    }
   ],
   "source": [
    "Xy.y.hist()"
   ]
  },
  {
   "cell_type": "code",
   "execution_count": 24,
   "metadata": {},
   "outputs": [
    {
     "data": {
      "text/plain": [
       "array([91.08333333, 91.66666667, 93.33333333, 95.55555556])"
      ]
     },
     "execution_count": 24,
     "metadata": {},
     "output_type": "execute_result"
    }
   ],
   "source": [
    "np.percentile(np.array(scores), [5, 10, 50, 90]) # 95% time its above 91% acuracy x"
   ]
  },
  {
   "cell_type": "code",
   "execution_count": null,
   "metadata": {},
   "outputs": [],
   "source": []
  }
 ],
 "metadata": {
  "kernelspec": {
   "display_name": "venv",
   "language": "python",
   "name": "python3"
  },
  "language_info": {
   "codemirror_mode": {
    "name": "ipython",
    "version": 3
   },
   "file_extension": ".py",
   "mimetype": "text/x-python",
   "name": "python",
   "nbconvert_exporter": "python",
   "pygments_lexer": "ipython3",
   "version": "3.12.3"
  }
 },
 "nbformat": 4,
 "nbformat_minor": 2
}
